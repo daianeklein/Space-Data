{
 "cells": [
  {
   "cell_type": "markdown",
   "id": "13a11b9f",
   "metadata": {},
   "source": [
    "# Anscombe’s quartet"
   ]
  },
  {
   "cell_type": "markdown",
   "id": "ef231cc7",
   "metadata": {},
   "source": [
    "## Lib's"
   ]
  },
  {
   "cell_type": "code",
   "execution_count": 1,
   "id": "5f9ef166",
   "metadata": {
    "ExecuteTime": {
     "end_time": "2021-06-12T04:21:53.546319Z",
     "start_time": "2021-06-12T04:21:51.990006Z"
    }
   },
   "outputs": [],
   "source": [
    "import pandas as pd\n",
    "import seaborn as sns\n",
    "import matplotlib.pyplot as plt\n",
    "\n",
    "from sklearn.linear_model import LinearRegression\n",
    "from sklearn.metrics import classification_report\n",
    "from sklearn.metrics import r2_score\n"
   ]
  },
  {
   "cell_type": "markdown",
   "id": "5ec376b6",
   "metadata": {},
   "source": [
    "## Dataset"
   ]
  },
  {
   "cell_type": "code",
   "execution_count": 2,
   "id": "a2d5fc43",
   "metadata": {
    "ExecuteTime": {
     "end_time": "2021-06-12T04:21:53.596214Z",
     "start_time": "2021-06-12T04:21:53.565319Z"
    }
   },
   "outputs": [
    {
     "data": {
      "text/html": [
       "<div>\n",
       "<style scoped>\n",
       "    .dataframe tbody tr th:only-of-type {\n",
       "        vertical-align: middle;\n",
       "    }\n",
       "\n",
       "    .dataframe tbody tr th {\n",
       "        vertical-align: top;\n",
       "    }\n",
       "\n",
       "    .dataframe thead th {\n",
       "        text-align: right;\n",
       "    }\n",
       "</style>\n",
       "<table border=\"1\" class=\"dataframe\">\n",
       "  <thead>\n",
       "    <tr style=\"text-align: right;\">\n",
       "      <th></th>\n",
       "      <th>dataset</th>\n",
       "      <th>x</th>\n",
       "      <th>y</th>\n",
       "    </tr>\n",
       "  </thead>\n",
       "  <tbody>\n",
       "    <tr>\n",
       "      <th>0</th>\n",
       "      <td>I</td>\n",
       "      <td>10.0</td>\n",
       "      <td>8.04</td>\n",
       "    </tr>\n",
       "    <tr>\n",
       "      <th>1</th>\n",
       "      <td>I</td>\n",
       "      <td>8.0</td>\n",
       "      <td>6.95</td>\n",
       "    </tr>\n",
       "    <tr>\n",
       "      <th>2</th>\n",
       "      <td>I</td>\n",
       "      <td>13.0</td>\n",
       "      <td>7.58</td>\n",
       "    </tr>\n",
       "    <tr>\n",
       "      <th>3</th>\n",
       "      <td>I</td>\n",
       "      <td>9.0</td>\n",
       "      <td>8.81</td>\n",
       "    </tr>\n",
       "    <tr>\n",
       "      <th>4</th>\n",
       "      <td>I</td>\n",
       "      <td>11.0</td>\n",
       "      <td>8.33</td>\n",
       "    </tr>\n",
       "  </tbody>\n",
       "</table>\n",
       "</div>"
      ],
      "text/plain": [
       "  dataset     x     y\n",
       "0       I  10.0  8.04\n",
       "1       I   8.0  6.95\n",
       "2       I  13.0  7.58\n",
       "3       I   9.0  8.81\n",
       "4       I  11.0  8.33"
      ]
     },
     "execution_count": 2,
     "metadata": {},
     "output_type": "execute_result"
    }
   ],
   "source": [
    "df = sns.load_dataset(\"anscombe\")\n",
    "df.head()"
   ]
  },
  {
   "cell_type": "markdown",
   "id": "16130967",
   "metadata": {},
   "source": [
    "## Linear Regression"
   ]
  },
  {
   "cell_type": "code",
   "execution_count": 3,
   "id": "aa231169",
   "metadata": {
    "ExecuteTime": {
     "end_time": "2021-06-12T04:21:55.705583Z",
     "start_time": "2021-06-12T04:21:55.695844Z"
    }
   },
   "outputs": [],
   "source": [
    "def lm(df):\n",
    "    \n",
    "    b0 = []\n",
    "    b1 = []\n",
    "    r2 = []\n",
    "    \n",
    "    x = df['x'].values\n",
    "    Y = df['y'].values\n",
    "\n",
    "    x = x.reshape(-1, 1)\n",
    "\n",
    "    lm = LinearRegression()\n",
    "    lm.fit(x, Y)\n",
    "    \n",
    "    b0.append(round(lm.intercept_,4))\n",
    "    b1.append(lm.coef_[0])\n",
    "    r2.append(r2_score(df['y'].values, lm.predict(x)))\n",
    "\n",
    "    return pd.DataFrame({ 'MOD' : df['dataset'].unique(),\n",
    "                         'intercept' : b0,\n",
    "                        'coef' : b1,\n",
    "                        'r2' : r2}, index = [0])"
   ]
  },
  {
   "cell_type": "code",
   "execution_count": 4,
   "id": "3a962556",
   "metadata": {
    "ExecuteTime": {
     "end_time": "2021-06-12T04:21:57.418934Z",
     "start_time": "2021-06-12T04:21:57.380781Z"
    }
   },
   "outputs": [
    {
     "data": {
      "text/html": [
       "<div>\n",
       "<style scoped>\n",
       "    .dataframe tbody tr th:only-of-type {\n",
       "        vertical-align: middle;\n",
       "    }\n",
       "\n",
       "    .dataframe tbody tr th {\n",
       "        vertical-align: top;\n",
       "    }\n",
       "\n",
       "    .dataframe thead th {\n",
       "        text-align: right;\n",
       "    }\n",
       "</style>\n",
       "<table border=\"1\" class=\"dataframe\">\n",
       "  <thead>\n",
       "    <tr style=\"text-align: right;\">\n",
       "      <th></th>\n",
       "      <th>MOD</th>\n",
       "      <th>intercept</th>\n",
       "      <th>coef</th>\n",
       "      <th>r2</th>\n",
       "    </tr>\n",
       "  </thead>\n",
       "  <tbody>\n",
       "    <tr>\n",
       "      <th>0</th>\n",
       "      <td>I</td>\n",
       "      <td>3.0001</td>\n",
       "      <td>0.500091</td>\n",
       "      <td>0.666542</td>\n",
       "    </tr>\n",
       "    <tr>\n",
       "      <th>0</th>\n",
       "      <td>II</td>\n",
       "      <td>3.0009</td>\n",
       "      <td>0.500000</td>\n",
       "      <td>0.666242</td>\n",
       "    </tr>\n",
       "    <tr>\n",
       "      <th>0</th>\n",
       "      <td>III</td>\n",
       "      <td>3.0025</td>\n",
       "      <td>0.499727</td>\n",
       "      <td>0.666324</td>\n",
       "    </tr>\n",
       "    <tr>\n",
       "      <th>0</th>\n",
       "      <td>IV</td>\n",
       "      <td>3.0017</td>\n",
       "      <td>0.499909</td>\n",
       "      <td>0.666707</td>\n",
       "    </tr>\n",
       "  </tbody>\n",
       "</table>\n",
       "</div>"
      ],
      "text/plain": [
       "   MOD  intercept      coef        r2\n",
       "0    I     3.0001  0.500091  0.666542\n",
       "0   II     3.0009  0.500000  0.666242\n",
       "0  III     3.0025  0.499727  0.666324\n",
       "0   IV     3.0017  0.499909  0.666707"
      ]
     },
     "execution_count": 4,
     "metadata": {},
     "output_type": "execute_result"
    }
   ],
   "source": [
    "results = []\n",
    "\n",
    "for i in df['dataset'].unique():\n",
    "    i = lm(df[df['dataset'] == i])\n",
    "    results.append(i)\n",
    "    \n",
    "aux = pd.DataFrame()\n",
    "aux.append(results)"
   ]
  },
  {
   "cell_type": "markdown",
   "id": "f5e0f828",
   "metadata": {
    "ExecuteTime": {
     "end_time": "2021-06-12T02:30:52.357434Z",
     "start_time": "2021-06-12T02:30:51.312531Z"
    }
   },
   "source": [
    "## Dispersão"
   ]
  },
  {
   "cell_type": "code",
   "execution_count": 53,
   "id": "971bf641",
   "metadata": {
    "ExecuteTime": {
     "end_time": "2021-06-12T02:37:58.202084Z",
     "start_time": "2021-06-12T02:37:57.308112Z"
    }
   },
   "outputs": [
    {
     "data": {
      "image/png": "[encoded data removed]",
      "text/plain": [
       "<Figure size 720x720 with 4 Axes>"
      ]
     },
     "metadata": {
      "needs_background": "light"
     },
     "output_type": "display_data"
    }
   ],
   "source": [
    "sns.lmplot(x=\"x\", y=\"y\", col=\"dataset\", hue=\"dataset\", data=df,\n",
    "           col_wrap=2, ci=None, palette=\"muted\", height=5,\n",
    "          line_kws={'color': 'lightgrey'},\n",
    "          scatter_kws={\"s\": 100});\n",
    "\n"
   ]
  },
  {
   "cell_type": "code",
   "execution_count": null,
   "id": "5b8d5d31",
   "metadata": {},
   "outputs": [],
   "source": []
  }
 ],
 "metadata": {
  "kernelspec": {
   "display_name": "Python 3",
   "language": "python",
   "name": "python3"
  },
  "language_info": {
   "codemirror_mode": {
    "name": "ipython",
    "version": 3
   },
   "file_extension": ".py",
   "mimetype": "text/x-python",
   "name": "python",
   "nbconvert_exporter": "python",
   "pygments_lexer": "ipython3",
   "version": "3.7.6"
  },
  "toc": {
   "base_numbering": 1,
   "nav_menu": {},
   "number_sections": true,
   "sideBar": true,
   "skip_h1_title": false,
   "title_cell": "Table of Contents",
   "title_sidebar": "Contents",
   "toc_cell": false,
   "toc_position": {},
   "toc_section_display": true,
   "toc_window_display": false
  },
  "varInspector": {
   "cols": {
    "lenName": 16,
    "lenType": 16,
    "lenVar": 40
   },
   "kernels_config": {
    "python": {
     "delete_cmd_postfix": "",
     "delete_cmd_prefix": "del ",
     "library": "var_list.py",
     "varRefreshCmd": "print(var_dic_list())"
    },
    "r": {
     "delete_cmd_postfix": ") ",
     "delete_cmd_prefix": "rm(",
     "library": "var_list.r",
     "varRefreshCmd": "cat(var_dic_list()) "
    }
   },
   "types_to_exclude": [
    "module",
    "function",
    "builtin_function_or_method",
    "instance",
    "_Feature"
   ],
   "window_display": false
  }
 },
 "nbformat": 4,
 "nbformat_minor": 5
}
