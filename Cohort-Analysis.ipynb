{
 "cells": [
  {
   "cell_type": "code",
   "execution_count": 279,
   "metadata": {
    "ExecuteTime": {
     "end_time": "2021-04-29T00:46:47.465599Z",
     "start_time": "2021-04-29T00:46:47.461082Z"
    }
   },
   "outputs": [],
   "source": [
    "import pandas as pd\n",
    "import numpy as np\n",
    "import pandas as pd\n",
    "from datetime import datetime\n",
    "\n",
    "import math\n"
   ]
  },
  {
   "cell_type": "code",
   "execution_count": 280,
   "metadata": {
    "ExecuteTime": {
     "end_time": "2021-04-29T00:46:47.863918Z",
     "start_time": "2021-04-29T00:46:47.829231Z"
    }
   },
   "outputs": [
    {
     "data": {
      "text/html": [
       "<div>\n",
       "<style scoped>\n",
       "    .dataframe tbody tr th:only-of-type {\n",
       "        vertical-align: middle;\n",
       "    }\n",
       "\n",
       "    .dataframe tbody tr th {\n",
       "        vertical-align: top;\n",
       "    }\n",
       "\n",
       "    .dataframe thead th {\n",
       "        text-align: right;\n",
       "    }\n",
       "</style>\n",
       "<table border=\"1\" class=\"dataframe\">\n",
       "  <thead>\n",
       "    <tr style=\"text-align: right;\">\n",
       "      <th></th>\n",
       "      <th>Customer</th>\n",
       "      <th>Subscription</th>\n",
       "      <th>Cancel</th>\n",
       "      <th>Categoria</th>\n",
       "      <th>Valor_Compra</th>\n",
       "      <th>MMAA</th>\n",
       "      <th>Tempo</th>\n",
       "    </tr>\n",
       "  </thead>\n",
       "  <tbody>\n",
       "    <tr>\n",
       "      <th>0</th>\n",
       "      <td>4205</td>\n",
       "      <td>01/07/2018</td>\n",
       "      <td>09/08/2020</td>\n",
       "      <td>A</td>\n",
       "      <td>1221.33</td>\n",
       "      <td>08/2020</td>\n",
       "      <td>26</td>\n",
       "    </tr>\n",
       "    <tr>\n",
       "      <th>1</th>\n",
       "      <td>5290</td>\n",
       "      <td>29/04/2020</td>\n",
       "      <td>04/06/2020</td>\n",
       "      <td>A</td>\n",
       "      <td>1843.01</td>\n",
       "      <td>06/2020</td>\n",
       "      <td>1</td>\n",
       "    </tr>\n",
       "    <tr>\n",
       "      <th>2</th>\n",
       "      <td>8530</td>\n",
       "      <td>30/12/2018</td>\n",
       "      <td>12/07/2020</td>\n",
       "      <td>B</td>\n",
       "      <td>237.25</td>\n",
       "      <td>07/2020</td>\n",
       "      <td>19</td>\n",
       "    </tr>\n",
       "    <tr>\n",
       "      <th>3</th>\n",
       "      <td>1740</td>\n",
       "      <td>29/11/2018</td>\n",
       "      <td>11/06/2020</td>\n",
       "      <td>C</td>\n",
       "      <td>590.94</td>\n",
       "      <td>06/2020</td>\n",
       "      <td>19</td>\n",
       "    </tr>\n",
       "    <tr>\n",
       "      <th>4</th>\n",
       "      <td>2487</td>\n",
       "      <td>14/05/2019</td>\n",
       "      <td>26/08/2020</td>\n",
       "      <td>A</td>\n",
       "      <td>22.49</td>\n",
       "      <td>08/2020</td>\n",
       "      <td>16</td>\n",
       "    </tr>\n",
       "    <tr>\n",
       "      <th>...</th>\n",
       "      <td>...</td>\n",
       "      <td>...</td>\n",
       "      <td>...</td>\n",
       "      <td>...</td>\n",
       "      <td>...</td>\n",
       "      <td>...</td>\n",
       "      <td>...</td>\n",
       "    </tr>\n",
       "    <tr>\n",
       "      <th>793</th>\n",
       "      <td>4853</td>\n",
       "      <td>07/08/2018</td>\n",
       "      <td>NaN</td>\n",
       "      <td>A</td>\n",
       "      <td>133.06</td>\n",
       "      <td>12/1899</td>\n",
       "      <td>Ativo</td>\n",
       "    </tr>\n",
       "    <tr>\n",
       "      <th>794</th>\n",
       "      <td>6153</td>\n",
       "      <td>17/09/2019</td>\n",
       "      <td>NaN</td>\n",
       "      <td>C</td>\n",
       "      <td>973.82</td>\n",
       "      <td>12/1899</td>\n",
       "      <td>Ativo</td>\n",
       "    </tr>\n",
       "    <tr>\n",
       "      <th>795</th>\n",
       "      <td>7332</td>\n",
       "      <td>04/07/2018</td>\n",
       "      <td>20/01/2019</td>\n",
       "      <td>B</td>\n",
       "      <td>2004.99</td>\n",
       "      <td>01/2019</td>\n",
       "      <td>7</td>\n",
       "    </tr>\n",
       "    <tr>\n",
       "      <th>796</th>\n",
       "      <td>4179</td>\n",
       "      <td>01/05/2020</td>\n",
       "      <td>17/12/2020</td>\n",
       "      <td>C</td>\n",
       "      <td>576.77</td>\n",
       "      <td>12/2020</td>\n",
       "      <td>8</td>\n",
       "    </tr>\n",
       "    <tr>\n",
       "      <th>797</th>\n",
       "      <td>8958</td>\n",
       "      <td>15/05/2019</td>\n",
       "      <td>25/11/2020</td>\n",
       "      <td>B</td>\n",
       "      <td>1119.99</td>\n",
       "      <td>11/2020</td>\n",
       "      <td>19</td>\n",
       "    </tr>\n",
       "  </tbody>\n",
       "</table>\n",
       "<p>798 rows × 7 columns</p>\n",
       "</div>"
      ],
      "text/plain": [
       "    Customer Subscription      Cancel Categoria   Valor_Compra      MMAA  \\\n",
       "0       4205   01/07/2018  09/08/2020         A         1221.33  08/2020   \n",
       "1       5290   29/04/2020  04/06/2020         A         1843.01  06/2020   \n",
       "2       8530   30/12/2018  12/07/2020         B          237.25  07/2020   \n",
       "3       1740   29/11/2018  11/06/2020         C          590.94  06/2020   \n",
       "4       2487   14/05/2019  26/08/2020         A           22.49  08/2020   \n",
       "..       ...          ...         ...       ...             ...      ...   \n",
       "793     4853   07/08/2018         NaN         A          133.06  12/1899   \n",
       "794     6153   17/09/2019         NaN         C          973.82  12/1899   \n",
       "795     7332   04/07/2018  20/01/2019         B         2004.99  01/2019   \n",
       "796     4179   01/05/2020  17/12/2020         C          576.77  12/2020   \n",
       "797     8958   15/05/2019  25/11/2020         B         1119.99  11/2020   \n",
       "\n",
       "     Tempo  \n",
       "0       26  \n",
       "1        1  \n",
       "2       19  \n",
       "3       19  \n",
       "4       16  \n",
       "..     ...  \n",
       "793  Ativo  \n",
       "794  Ativo  \n",
       "795      7  \n",
       "796      8  \n",
       "797     19  \n",
       "\n",
       "[798 rows x 7 columns]"
      ]
     },
     "execution_count": 280,
     "metadata": {},
     "output_type": "execute_result"
    }
   ],
   "source": [
    "df = pd.read_csv('Cohort-Data.csv', sep = ';', dtype = {'Customer' : str,\n",
    "                                                       'Cancel' : str},\n",
    "                 \n",
    "                decimal = ',')\n",
    "\n",
    "df\n",
    "\n",
    "#parse_dates = ['Subscription', 'Cancel'],"
   ]
  },
  {
   "cell_type": "code",
   "execution_count": 281,
   "metadata": {
    "ExecuteTime": {
     "end_time": "2021-04-29T00:47:09.468890Z",
     "start_time": "2021-04-29T00:47:09.460391Z"
    }
   },
   "outputs": [
    {
     "data": {
      "text/plain": [
       "Customer           object\n",
       "Subscription       object\n",
       "Cancel             object\n",
       "Categoria          object\n",
       " Valor_Compra     float64\n",
       "MMAA               object\n",
       "Tempo              object\n",
       "dtype: object"
      ]
     },
     "execution_count": 281,
     "metadata": {},
     "output_type": "execute_result"
    }
   ],
   "source": [
    "df.dtypes"
   ]
  },
  {
   "cell_type": "code",
   "execution_count": null,
   "metadata": {},
   "outputs": [],
   "source": []
  }
 ],
 "metadata": {
  "kernelspec": {
   "display_name": "Python 3",
   "language": "python",
   "name": "python3"
  },
  "language_info": {
   "codemirror_mode": {
    "name": "ipython",
    "version": 3
   },
   "file_extension": ".py",
   "mimetype": "text/x-python",
   "name": "python",
   "nbconvert_exporter": "python",
   "pygments_lexer": "ipython3",
   "version": "3.7.6"
  },
  "toc": {
   "base_numbering": 1,
   "nav_menu": {},
   "number_sections": true,
   "sideBar": true,
   "skip_h1_title": false,
   "title_cell": "Table of Contents",
   "title_sidebar": "Contents",
   "toc_cell": false,
   "toc_position": {},
   "toc_section_display": true,
   "toc_window_display": false
  },
  "varInspector": {
   "cols": {
    "lenName": 16,
    "lenType": 16,
    "lenVar": 40
   },
   "kernels_config": {
    "python": {
     "delete_cmd_postfix": "",
     "delete_cmd_prefix": "del ",
     "library": "var_list.py",
     "varRefreshCmd": "print(var_dic_list())"
    },
    "r": {
     "delete_cmd_postfix": ") ",
     "delete_cmd_prefix": "rm(",
     "library": "var_list.r",
     "varRefreshCmd": "cat(var_dic_list()) "
    }
   },
   "types_to_exclude": [
    "module",
    "function",
    "builtin_function_or_method",
    "instance",
    "_Feature"
   ],
   "window_display": false
  }
 },
 "nbformat": 4,
 "nbformat_minor": 4
}
